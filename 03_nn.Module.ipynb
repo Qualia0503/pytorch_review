{
 "cells": [
  {
   "cell_type": "markdown",
   "metadata": {},
   "source": [
    "### 神经网络的基本概念"
   ]
  },
  {
   "cell_type": "markdown",
   "metadata": {},
   "source": [
    "- 人工智能———>机器学习———>神经网络      \n",
    "- 神经网络如下图所示：输入层，输出层，隐藏层，**多层感知器**        \n",
    "- 最简单的神经网络输入层，输出层，隐藏层；      \n",
    "- 每个圈都是一个神经元，神经元之间通过运算来进行信息传递，特征抽取；\n",
    "- 一般把函数表达为 y = wx + b; b一般就是偏置项,即bias；\n",
    "- 输入层和输出层非常稠密，如1024维，的时候，会加入dropout\n",
    "- X1到X1撇 之间的求解过程，就叫做一层的感知器；\n",
    "![neural_network.png](./neural_network.png)\n",
    "\n",
    "\n",
    "- 神经元、感知器、阶跃函数、激活函数\n",
    "\n",
    "![感知器.png](./感知器.png)"
   ]
  },
  {
   "cell_type": "markdown",
   "metadata": {},
   "source": [
    "- 多层感知器——>神经网络     \n",
    "- 多隐层的多层感知器——>深度学习\n",
    "\n",
    "![深度学习.png](./深度学习.png)"
   ]
  },
  {
   "cell_type": "markdown",
   "metadata": {},
   "source": [
    "- 前向运算      \n",
    "- 计算输出值的过程称为前向传播\n",
    "- 前向运算的前提是参数必须是已知的\n",
    "\n",
    "\n",
    "![前向运算.png](./前向运算.png)\n",
    "\n"
   ]
  },
  {
   "cell_type": "markdown",
   "metadata": {},
   "source": [
    "- 反向传播      \n",
    "- 反向传播(Backpropagation, BP)神经网络训练方法     \n",
    "    - 该算法于1986年由Rumelhar和Hinton等人提出，该方法解决了带隐藏层的神经网络优化的计算量问题，     \n",
    "    使得带隐藏层的神经网络走向真正的应用。      \n",
    "反向传播法，通过计算输出层结果与真实值之间的偏差来进行逐层调节参数      \n",
    "    - 参数更新多少？ --->导数和学习率\n",
    "\n",
    "\n",
    "\n",
    "    $$ y(x) = wx + b $$\n",
    "    $$ \\min \\| y' - (wx + b) \\|^2 $$\n",
    "    $$ w = w - \\eta \\nabla_w J(w) $$"
   ]
  },
  {
   "cell_type": "code",
   "execution_count": null,
   "metadata": {},
   "outputs": [],
   "source": []
  },
  {
   "cell_type": "code",
   "execution_count": null,
   "metadata": {},
   "outputs": [],
   "source": []
  },
  {
   "cell_type": "code",
   "execution_count": null,
   "metadata": {},
   "outputs": [],
   "source": []
  },
  {
   "cell_type": "code",
   "execution_count": null,
   "metadata": {},
   "outputs": [],
   "source": []
  },
  {
   "cell_type": "code",
   "execution_count": null,
   "metadata": {},
   "outputs": [],
   "source": []
  },
  {
   "cell_type": "code",
   "execution_count": null,
   "metadata": {},
   "outputs": [],
   "source": []
  }
 ],
 "metadata": {
  "kernelspec": {
   "display_name": "deep_py312",
   "language": "python",
   "name": "python3"
  },
  "language_info": {
   "name": "python",
   "version": "3.12.9"
  }
 },
 "nbformat": 4,
 "nbformat_minor": 2
}
